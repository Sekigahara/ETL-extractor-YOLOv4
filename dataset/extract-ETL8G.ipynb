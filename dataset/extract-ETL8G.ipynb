{
 "cells": [
  {
   "cell_type": "code",
   "execution_count": 1,
   "id": "a7878c3f",
   "metadata": {},
   "outputs": [],
   "source": [
    "import os\n",
    "import time\n",
    "import math\n",
    "import re\n",
    "import struct\n",
    "import traceback\n",
    "import codecs\n",
    "import io\n",
    "\n",
    "import bitstring\n",
    "\n",
    "import numpy as np\n",
    "import matplotlib.pyplot as plt\n",
    "import cv2\n",
    "\n",
    "from PIL import Image\n",
    "from list_char import JIS0208\n",
    "from hiragana import basic_hiragana_char\n",
    "import IPython.display as display"
   ]
  },
  {
   "cell_type": "code",
   "execution_count": 2,
   "id": "edd659d2",
   "metadata": {},
   "outputs": [],
   "source": [
    "file_list = [\n",
    "    'ETL8G' + '\\\\ETL8G_01',\n",
    "    'ETL8G' + '\\\\ETL8G_02',\n",
    "    'ETL8G' + '\\\\ETL8G_03',\n",
    "    'ETL8G' + '\\\\ETL8G_04',\n",
    "    'ETL8G' + '\\\\ETL8G_05',\n",
    "    'ETL8G' + '\\\\ETL8G_06',\n",
    "    'ETL8G' + '\\\\ETL8G_07',\n",
    "    'ETL8G' + '\\\\ETL8G_08',\n",
    "    'ETL8G' + '\\\\ETL8G_09',\n",
    "    'ETL8G' + '\\\\ETL8G_10',\n",
    "    'ETL8G' + '\\\\ETL8G_11',\n",
    "    'ETL8G' + '\\\\ETL8G_12',\n",
    "    'ETL8G' + '\\\\ETL8G_13',\n",
    "    'ETL8G' + '\\\\ETL8G_14',\n",
    "    'ETL8G' + '\\\\ETL8G_15',\n",
    "    'ETL8G' + '\\\\ETL8G_16',\n",
    "    'ETL8G' + '\\\\ETL8G_17',\n",
    "    'ETL8G' + '\\\\ETL8G_18',\n",
    "    'ETL8G' + '\\\\ETL8G_19',\n",
    "    'ETL8G' + '\\\\ETL8G_20',\n",
    "    'ETL8G' + '\\\\ETL8G_21',\n",
    "    'ETL8G' + '\\\\ETL8G_22',\n",
    "    'ETL8G' + '\\\\ETL8G_23',\n",
    "    'ETL8G' + '\\\\ETL8G_24',\n",
    "    'ETL8G' + '\\\\ETL8G_25',\n",
    "    'ETL8G' + '\\\\ETL8G_26',\n",
    "    'ETL8G' + '\\\\ETL8G_27',\n",
    "    'ETL8G' + '\\\\ETL8G_28',\n",
    "    'ETL8G' + '\\\\ETL8G_29',\n",
    "    'ETL8G' + '\\\\ETL8G_30',\n",
    "    'ETL8G' + '\\\\ETL8G_31',\n",
    "    'ETL8G' + '\\\\ETL8G_32',\n",
    "    'ETL8G' + '\\\\ETL8G_33'\n",
    "]"
   ]
  },
  {
   "cell_type": "code",
   "execution_count": 3,
   "id": "162cea43",
   "metadata": {},
   "outputs": [],
   "source": [
    "file_stream = bitstring.ConstBitStream(filename=file_list[0])"
   ]
  },
  {
   "cell_type": "code",
   "execution_count": 4,
   "id": "22552db7",
   "metadata": {},
   "outputs": [
    {
     "data": {
      "text/plain": [
       "-110"
      ]
     },
     "execution_count": 4,
     "metadata": {},
     "output_type": "execute_result"
    }
   ],
   "source": [
    "record = file_stream.readlist(',' . join([\n",
    "    'int:16', # Serial Sheet Number - [0]\n",
    "    'uint:64', # JIS Character Code (JIS X 0208) - [1]\n",
    "    '8*uint:8', # JIS Typical Reading (e.g. 'AI.MEDER') - [2:10]\n",
    "    'int:32', # Serial Data Number - [10]\n",
    "    '4*int:8', # - [11:15]\n",
    "    '4*uint:16', # - [15:19]\n",
    "    '2*int:8', # x and y - [19:21]\n",
    "    'pad:240',\n",
    "    'bytes:8128', # 16-graylevel (4-bit) image of 128 x 127 = 16256 pixels\n",
    "    'pad:88',\n",
    "]))\n",
    "record[20]"
   ]
  },
  {
   "cell_type": "code",
   "execution_count": 5,
   "id": "ff70417f",
   "metadata": {},
   "outputs": [],
   "source": [
    "record_dict = {\n",
    "    'JIS_CODE': record[1],\n",
    "    'image_data' : record[-1]\n",
    "}"
   ]
  },
  {
   "cell_type": "code",
   "execution_count": 6,
   "id": "af734d9c",
   "metadata": {},
   "outputs": [
    {
     "name": "stdout",
     "output_type": "stream",
     "text": [
      "<class 'list'> 22\n",
      "0 - 1\n",
      "1 - 2603715201610633793\n",
      "2 - 32\n",
      "3 - 32\n",
      "4 - 0\n",
      "5 - 0\n",
      "6 - 0\n",
      "7 - 1\n",
      "8 - 0\n",
      "9 - 0\n",
      "10 - 18353632\n",
      "11 - 0\n",
      "12 - 0\n",
      "13 - 31\n",
      "14 - 65\n",
      "15 - 16880\n",
      "16 - 0\n",
      "17 - 6\n",
      "18 - 24206\n",
      "19 - 94\n",
      "20 - -110\n"
     ]
    }
   ],
   "source": [
    "print(type(record), len(record))\n",
    "for idx, v in enumerate(record[:-1]):\n",
    "    print(f'{idx} - {v}')"
   ]
  },
  {
   "cell_type": "code",
   "execution_count": 7,
   "id": "c2daec11",
   "metadata": {},
   "outputs": [
    {
     "name": "stderr",
     "output_type": "stream",
     "text": [
      "Clipping input data to the valid range for imshow with RGB data ([0..1] for floats or [0..255] for integers).\n"
     ]
    },
    {
     "data": {
      "text/plain": [
       "<matplotlib.image.AxesImage at 0x29994aef4f0>"
      ]
     },
     "execution_count": 7,
     "metadata": {},
     "output_type": "execute_result"
    },
    {
     "data": {
      "image/png": "[encoded data removed]",
      "text/plain": [
       "<Figure size 432x288 with 1 Axes>"
      ]
     },
     "metadata": {
      "needs_background": "light"
     },
     "output_type": "display_data"
    }
   ],
   "source": [
    "width = 128\n",
    "height = 127\n",
    "\n",
    "img = np.array(Image.frombytes('F', (width, height), record_dict['image_data'], 'bit', 4))\n",
    "img = cv2.cvtColor(img, cv2.COLOR_GRAY2RGB)\n",
    "plt.imshow(img)"
   ]
  },
  {
   "cell_type": "code",
   "execution_count": 8,
   "id": "d8519676",
   "metadata": {},
   "outputs": [
    {
     "name": "stderr",
     "output_type": "stream",
     "text": [
      "Clipping input data to the valid range for imshow with RGB data ([0..1] for floats or [0..255] for integers).\n"
     ]
    },
    {
     "data": {
      "text/plain": [
       "<matplotlib.image.AxesImage at 0x29994bfe1c0>"
      ]
     },
     "execution_count": 8,
     "metadata": {},
     "output_type": "execute_result"
    },
    {
     "data": {
      "image/png": "[encoded data removed]",
      "text/plain": [
       "<Figure size 432x288 with 1 Axes>"
      ]
     },
     "metadata": {
      "needs_background": "light"
     },
     "output_type": "display_data"
    }
   ],
   "source": [
    "# Reverse binarization\n",
    "avg_color_per_row = np.average(img, axis=0)\n",
    "avg_color = np.average(avg_color_per_row, axis=0)\n",
    "\n",
    "for idx1, first_iter in enumerate(img):\n",
    "    for idx2, second_iter in enumerate(first_iter):\n",
    "        for idx3, third_iter in enumerate(second_iter):\n",
    "            if third_iter <= np.round(avg_color[idx3]):\n",
    "                img[idx1][idx2][idx3] = 255\n",
    "            else:\n",
    "                img[idx1][idx2][idx3] = 0\n",
    "                \n",
    "plt.imshow(img)"
   ]
  },
  {
   "cell_type": "code",
   "execution_count": 9,
   "id": "38b61e42",
   "metadata": {},
   "outputs": [],
   "source": [
    "# Reverse binarization function\n",
    "def reverse_binarization(pil_image):\n",
    "    img = cv2.cvtColor(pil_image, cv2.COLOR_GRAY2RGB)\n",
    "    avg_color_per_row = np.average(img, axis=0)\n",
    "    avg_color = np.average(avg_color_per_row, axis=0)\n",
    "\n",
    "    for idx1, first_iter in enumerate(img):\n",
    "        for idx2, second_iter in enumerate(first_iter):\n",
    "                for idx3, third_iter in enumerate(second_iter):\n",
    "                    if third_iter <= np.round(avg_color[idx3]):\n",
    "                        img[idx1][idx2][idx3] = 255\n",
    "                    elif third_iter <= np.round(avg_color[idx3]) + 1:\n",
    "                        img[idx1][idx2][idx3] = 255\n",
    "                    else:\n",
    "                        img[idx1][idx2][idx3] = 0\n",
    "    return img"
   ]
  },
  {
   "cell_type": "code",
   "execution_count": 10,
   "id": "488cef41",
   "metadata": {},
   "outputs": [],
   "source": [
    "total_samples = 0\n",
    "record_count = {}\n",
    "save_dir = 'ETL8G\\\\IMG'\n",
    "distinct_idx = 0\n",
    "\n",
    "for filename in file_list:\n",
    "    file_stream = bitstring.ConstBitStream(filename=filename)\n",
    "    \n",
    "    while True:\n",
    "        try:\n",
    "            record = file_stream.readlist(','.join([\n",
    "                'int:16', # Serial Sheet Number - [0]\n",
    "                'uint:16', # JIS Character Code (JIS X 0208) - [1]\n",
    "                '8*uint:8', # JIS Typical Reading (e.g. 'AI.MEDER') - [2:10]\n",
    "                'int:32', # Serial Data Number - [10]\n",
    "                '4*int:8', # - [11:15]\n",
    "                '4*uint:16', # - [15:19]\n",
    "                '2*int:8', # x and y - [19:21]\n",
    "                'pad:240',\n",
    "                'bytes:8128', # 16-graylevel (4-bit) image of 128 x 127 = 16256 pixels\n",
    "                'pad:88'\n",
    "            ]))\n",
    "        except:\n",
    "            break\n",
    "\n",
    "        total_samples += 1\n",
    "        record_dict = {\n",
    "            'SERIAL_SHEET': record[0],\n",
    "            'JIS_CODE': record[1],\n",
    "            'JIS_READING': record[2:10],\n",
    "            'image_data': record[-1],\n",
    "        }\n",
    "\n",
    "        # Sheet Number\n",
    "        sheet_number = record_dict['SERIAL_SHEET']\n",
    "\n",
    "        # Unicode\n",
    "        jis_code = hex(record_dict['JIS_CODE'])\n",
    "        unicode = int(str(jis_code), base=16)\n",
    "        if unicode in JIS0208:\n",
    "            unicode_char = JIS0208[unicode]\n",
    "        else:\n",
    "            unicode_char = 'null_' + repr(unicode)\n",
    "\n",
    "        if jis_code in record_count.keys():\n",
    "            record_count[jis_code] += 1\n",
    "        else:\n",
    "            record_count[jis_code] = 1\n",
    "\n",
    "        # Get the Jist Reading\n",
    "        jis_reading = record_dict['JIS_READING']\n",
    "        jis_reading = ''.join(list(map(chr, jis_reading)))\n",
    "\n",
    "        # Image Data\\n\",\n",
    "        image = record_dict['image_data']\n",
    "        pil_image = np.array(Image.frombytes('F', (width, height), image, 'bit', 4))\n",
    "        buffer = io.BytesIO()\n",
    "        png_encoded_image = buffer.getvalue()\n",
    "\n",
    "        # Filename for saving directories also\\n\",\n",
    "        #filename = str(sheet_number) + \"_\" + str(jis_reading) + \"_\" + hiragana + \"_hira\" + \".png\"\n",
    "\n",
    "        for idx, chara in enumerate(basic_hiragana_char):\n",
    "            if unicode_char == basic_hiragana_char[idx].split(\"-\")[0]:\n",
    "                filename = str(distinct_idx) + \"_\" + basic_hiragana_char[idx] + \"_hira\" + \".png\"\n",
    "                filename = os.path.join(save_dir, filename)\n",
    "                #pil_image.save(filename)\n",
    "                \n",
    "                img = reverse_binarization(pil_image)\n",
    "                cv2.imwrite(filename, img)\n",
    "\n",
    "                distinct_idx += 1"
   ]
  },
  {
   "cell_type": "code",
   "execution_count": 14,
   "id": "34727eee",
   "metadata": {},
   "outputs": [
    {
     "data": {
      "text/plain": [
       "'あ'"
      ]
     },
     "execution_count": 14,
     "metadata": {},
     "output_type": "execute_result"
    }
   ],
   "source": [
    "basic_hiragana_char[0].split(\"-\")[0]"
   ]
  },
  {
   "cell_type": "code",
   "execution_count": null,
   "id": "7cbe88d3",
   "metadata": {},
   "outputs": [],
   "source": []
  }
 ],
 "metadata": {
  "kernelspec": {
   "display_name": "Python 3.8.12 ('sekigahara')",
   "language": "python",
   "name": "python3"
  },
  "language_info": {
   "codemirror_mode": {
    "name": "ipython",
    "version": 3
   },
   "file_extension": ".py",
   "mimetype": "text/x-python",
   "name": "python",
   "nbconvert_exporter": "python",
   "pygments_lexer": "ipython3",
   "version": "3.8.12"
  },
  "vscode": {
   "interpreter": {
    "hash": "85b3e9a93fd6d54902d8504db28d32c7c77deb13c32a16ffc61523ea758b36c8"
   }
  }
 },
 "nbformat": 4,
 "nbformat_minor": 5
}
