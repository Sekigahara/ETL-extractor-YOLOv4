{
 "cells": [
  {
   "cell_type": "code",
   "execution_count": 1,
   "id": "incredible-voluntary",
   "metadata": {},
   "outputs": [],
   "source": [
    "import os\n",
    "import time\n",
    "import io\n",
    "\n",
    "import bitstring\n",
    "\n",
    "import numpy as np\n",
    "import matplotlib.pyplot as plt\n",
    "import cv2\n",
    "import pandas as pd\n",
    "from PIL import Image\n",
    "from tqdm import tqdm\n",
    "from collections import namedtuple\n",
    "\n",
    "from list_char import JIS0208\n",
    "from hiragana import basic_hiragana_char"
   ]
  },
  {
   "cell_type": "code",
   "execution_count": 2,
   "id": "loose-greene",
   "metadata": {},
   "outputs": [],
   "source": [
    "dir = os.listdir('.')[5]"
   ]
  },
  {
   "cell_type": "code",
   "execution_count": 3,
   "id": "blessed-israel",
   "metadata": {},
   "outputs": [],
   "source": [
    "part_filepaths = [\n",
    "    'ETL9B' + '\\\\ETL9B_1',\n",
    "    'ETL9B' + '\\\\ETL9B_2',\n",
    "    'ETL9B' + '\\\\ETL9B_3',\n",
    "    'ETL9B' + '\\\\ETL9B_4',\n",
    "    'ETL9B' + '\\\\ETL9B_5'\n",
    "]\n",
    "\n",
    "# Just to restart\n",
    "for part_fpath in part_filepaths:\n",
    "    if not os.path.exists(part_fpath):\n",
    "        raise Exception(part_fpath, 'does not exist')"
   ]
  },
  {
   "cell_type": "code",
   "execution_count": 4,
   "id": "ceramic-directive",
   "metadata": {},
   "outputs": [
    {
     "name": "stdout",
     "output_type": "stream",
     "text": [
      "ETL9B\\ETL9B_4\n"
     ]
    }
   ],
   "source": [
    "# Constant by specification\n",
    "IMG_WIDTH = 64\n",
    "IMG_HEIGHT = 63\n",
    "sample_filepath = part_filepaths[3]\n",
    "print(sample_filepath)"
   ]
  },
  {
   "cell_type": "code",
   "execution_count": 5,
   "id": "advanced-group",
   "metadata": {},
   "outputs": [],
   "source": [
    "bitstring_unpack_str = ',' . join([\n",
    "    'int:16',     # Serial Sheet Number - [0]\n",
    "    'uint:16',    # JIS Kanji Code (JIS x 0208) - [1]\n",
    "    '4*uint:8',   # JIS Typical Reading - [eg. 'AI.M'] - [2:6]\n",
    "    'bytes:504',  # Image Data - [6]\n",
    "    'pad:512'\n",
    "])"
   ]
  },
  {
   "cell_type": "code",
   "execution_count": 6,
   "id": "intellectual-milwaukee",
   "metadata": {},
   "outputs": [],
   "source": [
    "infile = bitstring.ConstBitStream(filename=sample_filepath)"
   ]
  },
  {
   "cell_type": "markdown",
   "id": "amended-history",
   "metadata": {},
   "source": [
    "<h4> First Record of Each file is zero Padded Dummy </h4>"
   ]
  },
  {
   "cell_type": "code",
   "execution_count": 7,
   "id": "premier-start",
   "metadata": {},
   "outputs": [
    {
     "data": {
      "text/plain": [
       "[2403,\n",
       " 9262,\n",
       " 71,\n",
       " 73,\n",
       " 46,\n",
       " 72,\n",
       " b'\\x00\\x00\\x00\\x00\\x00\\x00\\x00\\x00\\x00\\x00\\x00\\x00\\x00\\x00\\x00\\x00\\x00\\x00\\x00\\x00\\x00\\x00\\x00\\x00\\x00\\x00\\x00\\x00\\x00\\x00\\x00\\x00\\x00\\x00\\x00\\x00\\x00\\x00\\x00\\x00\\x00\\x00\\x00\\x00\\x00\\x00\\x00\\x00\\x00\\x00\\x00\\x00\\x00\\x00\\x00\\x00\\x00\\x00\\x00\\x00\\x00\\x00\\x00\\x00\\x00\\x00\\x00\\x00\\x00\\x00\\x00\\x00\\x00\\x00\\x00\\x00\\x00\\x00\\x00\\x00\\x00\\x00\\x00\\x00\\x00\\x00\\x00\\x00\\x00\\x00\\x00\\x00\\x00\\x00\\x00\\x00\\x00\\x00\\xc0\\x00\\x00\\x00\\x00\\x00\\x00\\x00\\xf0\\x00\\x00\\x00\\x00\\x00\\x00\\x01\\xf8\\x00\\x00\\x00\\x00\\x00\\x00\\x01\\xfc\\x00\\x00\\x00\\x00\\x00\\x00\\x00\\xfc\\x00\\x00\\x00\\x00\\x00\\x00\\x00\\xfe\\x1f\\x80\\x00\\x00\\x00\\x00\\x00\\x7f\\xff\\xc0\\x00\\x00\\x00\\x00\\x00\\x7f\\xff\\xc0\\x03\\xc0\\x00\\x00\\x00\\xff\\xff\\x80\\x07\\xe0\\x00\\x00\\x07\\xff\\xff\\x80\\x07\\xf0\\x00\\x00?\\xff\\xff\\x00\\x03\\xf8\\x00\\x00\\x7f\\xff\\xff\\x87\\x81\\xfc\\x00\\x00\\xff\\xff\\xff\\xc7\\xc0\\xfe\\x00\\x00\\xff\\xff\\xff\\xe7\\xf0~\\x00\\x00\\x7f\\xff\\xff\\xe7\\xf8\\x1e\\x00\\x00<\\x7f\\xff\\xe3\\xf8\\x04\\x00\\x00\\x00\\xff\\xff\\xc1\\xf8\\x00\\x00\\x00\\x00\\xff\\xff\\x80\\x00\\x00\\x00\\x00\\x03\\xff\\xff\\x80\\x00\\x00\\x00\\x00\\x03\\xff\\xff\\x00\\x00\\x00\\x00\\x00\\x03\\xff\\xff\\x00\\x00\\x00\\x00\\x00\\x01\\xff\\xff\\x80\\x00\\x00\\x00\\x00\\x008\\x1f\\xc0\\x00\\x00\\x00\\x00\\x00\\x00\\x0f\\xc0\\x00\\x00\\x00\\x00\\x00\\x00\\x0f\\xc0\\x00\\x00\\x00\\x00\\x00\\x00\\x07\\xc0\\x00\\x00\\x00\\x00\\x00\\x00\\x07\\xc0\\x00\\x00\\x00\\x00\\x00\\x80\\x03\\xc0\\x00\\x00\\x00\\x00\\x03\\xf0\\x03\\xc0\\x00\\x00\\x00\\x00\\x03\\xfc\\x03\\xc0\\x00\\x00\\x00\\x00\\x07\\xff\\x03\\xc0\\x00\\x00\\x00\\x00\\x03\\xff\\x81\\x00\\x00\\x00\\x00\\x00\\x01\\xff\\xe0\\x00\\x00\\x00\\x00\\x00\\x00\\xff\\xfe\\x00\\x00\\x00\\x00\\x00\\x00\\x7f\\xff\\x00\\x00\\x00\\x00\\x00\\x00\\x1f\\xff\\x00\\x00\\x00\\x00\\x00\\x00\\x07\\xff\\x00\\x00\\x00\\x00\\x00\\x00\\x01\\xff\\x00\\x00\\x00\\x00\\x00\\x00\\x00~\\x00\\x00\\x00\\x00\\x00\\x00\\x00\\x00\\x00\\x00\\x00\\x00\\x00\\x00\\x00\\x00\\x00\\x00\\x00\\x00\\x00\\x00\\x00\\x00\\x00\\x00\\x00\\x00\\x00\\x00\\x00\\x00\\x00\\x00\\x00\\x00\\x00\\x00\\x00\\x00\\x00\\x00\\x00\\x00\\x00\\x00\\x00\\x00\\x00\\x00\\x00\\x00\\x00\\x00\\x00\\x00\\x00\\x00\\x00\\x00\\x00\\x00\\x00\\x00\\x00\\x00\\x00\\x00\\x00\\x00\\x00\\x00\\x00\\x00\\x00\\x00\\x00\\x00\\x00\\x00\\x00\\x00\\x00\\x00\\x00\\x00\\x00\\x00\\x00\\x00\\x00\\x00\\x00\\x00\\x00\\x00\\x00\\x00\\x00\\x00']"
      ]
     },
     "execution_count": 7,
     "metadata": {},
     "output_type": "execute_result"
    }
   ],
   "source": [
    "for i in range(0, 10):\n",
    "    unpacked_data = infile.readlist(bitstring_unpack_str)\n",
    "unpacked_data"
   ]
  },
  {
   "cell_type": "code",
   "execution_count": 8,
   "id": "spoken-third",
   "metadata": {},
   "outputs": [
    {
     "name": "stdout",
     "output_type": "stream",
     "text": [
      "<class 'int'> sheet_number: 2403\n",
      "<class 'int'> jis_char_code: 9262\n",
      "unicode_char: ぎ\n",
      "<class 'str'> jis_reading: 'GI.H'\n"
     ]
    },
    {
     "data": {
      "text/plain": [
       "<matplotlib.colorbar.Colorbar at 0x1fdded01580>"
      ]
     },
     "execution_count": 8,
     "metadata": {},
     "output_type": "execute_result"
    },
    {
     "data": {
      "image/png": "[encoded data removed]",
      "text/plain": [
       "<Figure size 432x288 with 2 Axes>"
      ]
     },
     "metadata": {
      "needs_background": "light"
     },
     "output_type": "display_data"
    }
   ],
   "source": [
    "# Type int - Serial Number Sheet\n",
    "sheet_num = unpacked_data[0]\n",
    "\n",
    "# type: binary - JIST Kanji Code (JIS x 0208)\n",
    "jis_char_code = unpacked_data[1]\n",
    "\n",
    "if jis_char_code in JIS0208:\n",
    "    unicode_char = JIS0208[jis_char_code]\n",
    "else:\n",
    "    unicode_char = 'null_' + repr(jis_char_code)\n",
    "    \n",
    "# type: ASCII - JIS Typical Reading (eg. 'AI.M')\n",
    "jis_reading = unpacked_data[2:6]\n",
    "jis_reading = ''.join(list(map(chr, jis_reading)))\n",
    "\n",
    "# type: bytes\n",
    "raw_image_data = unpacked_data[6]\n",
    "\n",
    "print(type(sheet_num), 'sheet_number:', sheet_num)\n",
    "print(type(jis_char_code), 'jis_char_code:', jis_char_code)\n",
    "print('unicode_char:', unicode_char)\n",
    "print(type(jis_reading), 'jis_reading:', repr(jis_reading))\n",
    "\n",
    "# Convert byte array with PIL then convert it into RGB\n",
    "pil_image = np.asarray(Image.frombytes('1', (IMG_WIDTH, IMG_HEIGHT), raw_image_data, 'raw')).astype('uint8')\n",
    "img = cv2.cvtColor(pil_image, cv2.COLOR_GRAY2RGB) * 255\n",
    "\n",
    "# Reverse binarization to white\n",
    "for idx1, first in enumerate(img):\n",
    "    for idx2, second in enumerate(first):\n",
    "        for idx3, third in enumerate(second):\n",
    "            if img[idx1][idx2][idx3] == 0:\n",
    "                img[idx1][idx2][idx3] = 255\n",
    "            else:\n",
    "                img[idx1][idx2][idx3] = 0\n",
    "\n",
    "plt.imshow(img)\n",
    "plt.colorbar()"
   ]
  },
  {
   "cell_type": "code",
   "execution_count": 9,
   "id": "decreased-developer",
   "metadata": {},
   "outputs": [],
   "source": [
    "metadata_fields = [\n",
    "    'char',\n",
    "    'dataset_source',\n",
    "    'width',\n",
    "    'height',\n",
    "    'seek_start',\n",
    "    'seek_end',\n",
    "    'sheet_number',\n",
    "    'jis_reading',\n",
    "]\n",
    "\n",
    "Record = namedtuple('Record', ' '.join(metadata_fields))"
   ]
  },
  {
   "cell_type": "code",
   "execution_count": 10,
   "id": "6cecbede",
   "metadata": {},
   "outputs": [],
   "source": [
    "# Reverse binarization function\n",
    "def reverse_binarization(pil_image):\n",
    "    img = cv2.cvtColor(pil_image.astype('uint8'), cv2.COLOR_GRAY2RGB) * 255\n",
    "    avg_color_per_row = np.average(img, axis=0)\n",
    "    avg_color = np.average(avg_color_per_row, axis=0)\n",
    "\n",
    "    for idx1, first_iter in enumerate(img):\n",
    "        for idx2, second_iter in enumerate(first_iter):\n",
    "                for idx3, third_iter in enumerate(second_iter):\n",
    "                    if third_iter <= np.round(avg_color[idx3]):\n",
    "                        img[idx1][idx2][idx3] = 255\n",
    "                    elif third_iter <= np.round(avg_color[idx3]) + 1:\n",
    "                        img[idx1][idx2][idx3] = 255\n",
    "                    else:\n",
    "                        img[idx1][idx2][idx3] = 0\n",
    "    return img"
   ]
  },
  {
   "cell_type": "code",
   "execution_count": 11,
   "id": "extra-developer",
   "metadata": {
    "scrolled": false
   },
   "outputs": [
    {
     "name": "stderr",
     "output_type": "stream",
     "text": [
      "ETL9B\\ETL9B_5 - BETS - 瞥: 100%|██████████| 5/5 [18:39<00:00, 223.92s/it] \n"
     ]
    }
   ],
   "source": [
    "save_dir = 'ETL9B\\\\IMG'\n",
    "record_metadata_list = []\n",
    "\n",
    "if not os.path.exists(save_dir):\n",
    "    os.makedirs(save_dir)\n",
    "\n",
    "png_image_packed_fpath = os.path.join(save_dir, 'images.bin')\n",
    "\n",
    "distinct_idx = 0\n",
    "\n",
    "with open(png_image_packed_fpath, mode='wb') as outfile:\n",
    "    # I decided to use a local variable to track the current file seeking position\n",
    "    # instead of call outfile.tell() every time we need to know the current seeking position.\n",
    "    # I think this is fine in our case because we only write/append to the output file.\n",
    "    cur_file_pos = 0\n",
    "\n",
    "    pbar = tqdm(part_filepaths)\n",
    "    for part_fpath in pbar:\n",
    "        pbar.set_description(part_fpath)\n",
    "\n",
    "        infile = bitstring.ConstBitStream(filename=part_fpath)\n",
    "        # skip the first record in each file\n",
    "        infile.readlist(bitstring_unpack_str)\n",
    "\n",
    "        # throttle tqdm\n",
    "        tqdm_idx = 0\n",
    "        while True:\n",
    "            tqdm_idx += 1\n",
    "\n",
    "            try:\n",
    "                unpacked_data = infile.readlist(bitstring_unpack_str)\n",
    "            except:\n",
    "                break\n",
    "\n",
    "            # type: int - Serial Sheet Number\n",
    "            sheet_number = unpacked_data[0]\n",
    "\n",
    "            # type: binary - JIS Kanji Code (JIS X 0208)\n",
    "            jis_char_code = unpacked_data[1]\n",
    "\n",
    "            if jis_char_code in JIS0208:\n",
    "                unicode_char = JIS0208[jis_char_code]\n",
    "            else:\n",
    "                unicode_char = 'null_' + repr(jis_char_code)\n",
    "\n",
    "            # type: ASCII - JIS Typical Reading (e.g. 'AI.M')\n",
    "            jis_reading = unpacked_data[2:6]\n",
    "            jis_reading = ''.join(list(map(chr, jis_reading)))\n",
    "            \n",
    "            # type: bytes\n",
    "            raw_image_data = unpacked_data[6]\n",
    "            pil_image = np.array(Image.frombytes('1', (IMG_WIDTH, IMG_HEIGHT), raw_image_data, 'raw'))\n",
    "        \n",
    "            # Extract only hiragana and save the image\n",
    "            for idx, chara in enumerate(basic_hiragana_char):\n",
    "                if unicode_char == basic_hiragana_char[idx].split(\"-\")[0]:\n",
    "                    filename = str(distinct_idx) + \"_\" + basic_hiragana_char[idx] + \"_hira\" + \".png\"\n",
    "                    filename = os.path.join(save_dir, filename)\n",
    "                    \n",
    "                    img = reverse_binarization(pil_image)\n",
    "                    \n",
    "                    cv2.imwrite(filename, img)\n",
    "\n",
    "                distinct_idx += 1\n",
    "                \n",
    "            if (tqdm_idx % 1000) == 0:\n",
    "                pbar.set_description(f'{part_fpath} - {jis_reading} - {unicode_char}')"
   ]
  },
  {
   "cell_type": "code",
   "execution_count": 12,
   "id": "insured-aside",
   "metadata": {},
   "outputs": [
    {
     "name": "stderr",
     "output_type": "stream",
     "text": [
      "0it [00:00, ?it/s]\n"
     ]
    }
   ],
   "source": [
    "record_metadata_fpath = os.path.join(save_dir, 'metadata-9B.tsv')\n",
    "\n",
    "with open(record_metadata_fpath, mode='wb') as outfile:\n",
    "    # write the header\n",
    "    outfile.write(('\\t'.join(metadata_fields) + '\\n').encode('utf-8'))\n",
    "\n",
    "    for row in tqdm(record_metadata_list):\n",
    "        s_arr = []\n",
    "        for field in row:\n",
    "            if type(field) is str:\n",
    "                s_arr.append(field)\n",
    "            else:\n",
    "                s_arr.append(repr(field))\n",
    "\n",
    "        outfile.write(('\\t'.join(s_arr) + '\\n').encode('utf-8'))"
   ]
  },
  {
   "cell_type": "code",
   "execution_count": null,
   "id": "267e50dc",
   "metadata": {},
   "outputs": [],
   "source": []
  }
 ],
 "metadata": {
  "kernelspec": {
   "display_name": "Python 3.8.12 ('sekigahara')",
   "language": "python",
   "name": "python3"
  },
  "language_info": {
   "codemirror_mode": {
    "name": "ipython",
    "version": 3
   },
   "file_extension": ".py",
   "mimetype": "text/x-python",
   "name": "python",
   "nbconvert_exporter": "python",
   "pygments_lexer": "ipython3",
   "version": "3.8.12"
  },
  "vscode": {
   "interpreter": {
    "hash": "85b3e9a93fd6d54902d8504db28d32c7c77deb13c32a16ffc61523ea758b36c8"
   }
  }
 },
 "nbformat": 4,
 "nbformat_minor": 5
}
