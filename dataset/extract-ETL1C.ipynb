{
 "cells": [
  {
   "cell_type": "code",
   "execution_count": 5,
   "id": "68cc5be4",
   "metadata": {},
   "outputs": [],
   "source": [
    "import struct\n",
    "from PIL import Image\n",
    "import numpy as np\n",
    "import os\n",
    "import cv2\n",
    "import matplotlib.pyplot as plt"
   ]
  },
  {
   "cell_type": "code",
   "execution_count": 6,
   "id": "8e0ee485",
   "metadata": {},
   "outputs": [],
   "source": [
    "file_list = [\n",
    "    'ETL1C' + '\\\\ETL1C_01',\n",
    "    'ETL1C' + '\\\\ETL1C_02',\n",
    "    'ETL1C' + '\\\\ETL1C_03',\n",
    "    'ETL1C' + '\\\\ETL1C_04',\n",
    "    'ETL1C' + '\\\\ETL1C_05',\n",
    "    'ETL1C' + '\\\\ETL1C_06',\n",
    "    'ETL1C' + '\\\\ETL1C_07',\n",
    "    'ETL1C' + '\\\\ETL1C_08',\n",
    "    'ETL1C' + '\\\\ETL1C_09',\n",
    "    'ETL1C' + '\\\\ETL1C_10',\n",
    "    'ETL1C' + '\\\\ETL1C_11',\n",
    "    'ETL1C' + '\\\\ETL1C_12',\n",
    "    'ETL1C' + '\\\\ETL1C_13',\n",
    "]"
   ]
  },
  {
   "cell_type": "code",
   "execution_count": 7,
   "id": "7eae391c",
   "metadata": {},
   "outputs": [],
   "source": [
    "def read_record(f):\n",
    "    s = f.read(2052)\n",
    "    r = struct.unpack('>H2sH6BI4H4B4x2016s4x', s)\n",
    "    img = Image.frombytes('F', (64, 63), r[18], 'bit', 4)\n",
    "    il = img.convert('P')\n",
    "    \n",
    "    return r + (il,)\n",
    "\n",
    "def read_kana():\n",
    "    kana = np.zeros([51, 1411, 63, 64], dtype=np.uint8) # 51 characters, 1411 writers, img size = 63*64\n",
    "    for idx in range(6,13):\n",
    "        with open(file_list[idx], 'rb') as f:\n",
    "            if idx != 12:\n",
    "                limit = 8\n",
    "            else:\n",
    "                limit = 3\n",
    "            \n",
    "            for dataset in range(limit):\n",
    "                for idx_writer in range(1411):\n",
    "                    try:\n",
    "                        r = read_record(f)\n",
    "                        kana[(idx - 7) * 8 + dataset, idx_writer] = np.array(r[-1])\n",
    "                    except struct.error:\n",
    "                        pass\n",
    "                    \n",
    "    return kana"
   ]
  },
  {
   "cell_type": "code",
   "execution_count": 8,
   "id": "ccc0f67a",
   "metadata": {},
   "outputs": [],
   "source": [
    "katakana = read_kana()"
   ]
  },
  {
   "cell_type": "code",
   "execution_count": null,
   "id": "e15aedce",
   "metadata": {},
   "outputs": [],
   "source": []
  },
  {
   "cell_type": "code",
   "execution_count": 9,
   "id": "1591a711",
   "metadata": {},
   "outputs": [
    {
     "data": {
      "text/plain": [
       "(63, 64, 3)"
      ]
     },
     "execution_count": 9,
     "metadata": {},
     "output_type": "execute_result"
    },
    {
     "data": {
      "image/png": "[encoded data removed]",
      "text/plain": [
       "<Figure size 432x288 with 1 Axes>"
      ]
     },
     "metadata": {
      "needs_background": "light"
     },
     "output_type": "display_data"
    }
   ],
   "source": [
    "img = katakana[10][183]\n",
    "\n",
    "img = cv2.cvtColor(img, cv2.COLOR_BGR2RGB)\n",
    "\n",
    "# Black to white based on average color\n",
    "avg_color_per_row = np.average(img, axis=0)\n",
    "avg_color = np.average(avg_color_per_row, axis=0)\n",
    "\n",
    "for idx1, first_iter in enumerate(img):\n",
    "    for idx2, second_iter in enumerate(first_iter):\n",
    "        for idx3, third_iter in enumerate(second_iter):\n",
    "            if third_iter <= np.round(avg_color[idx3]):\n",
    "                img[idx1][idx2][idx3] = 255\n",
    "            elif third_iter <= np.round(avg_color[idx3]) + 1:\n",
    "                img[idx1][idx2][idx3] = 255\n",
    "            else:\n",
    "                img[idx1][idx2][idx3] = 0\n",
    "                \n",
    "plt.imshow(img)\n",
    "img.shape"
   ]
  },
  {
   "cell_type": "code",
   "execution_count": 10,
   "id": "d2dda3de",
   "metadata": {},
   "outputs": [
    {
     "data": {
      "text/plain": [
       "51"
      ]
     },
     "execution_count": 10,
     "metadata": {},
     "output_type": "execute_result"
    }
   ],
   "source": [
    "mapping_label = [\n",
    "    'ケ-ke',\n",
    "    'コ-ko',\n",
    "    'サ-sa',\n",
    "    'シ-shi',\n",
    "    'ス-su',\n",
    "    'セ-se',\n",
    "    'ソ-so',\n",
    "    'タ-ta',\n",
    "    'チ-chi',\n",
    "    'ツ-tsu',\n",
    "    'テ-te',\n",
    "    'ト-to',\n",
    "    'ナ-na',\n",
    "    'ニ-ni',\n",
    "    'ヌ-nu',\n",
    "    'ネ-ne',\n",
    "    'ノ-no',\n",
    "    'ハ-ha',\n",
    "    'ヒ-hi',\n",
    "    'フ-fu',\n",
    "    'ヘ-he',\n",
    "    'ホ-ho',\n",
    "    'マ-ma',\n",
    "    'ミ-mi',\n",
    "    'ム-mu',\n",
    "    'メ-me',\n",
    "    'モ-mo',\n",
    "    'ヤ-ya',\n",
    "    'イ-i',\n",
    "    'ユ-yu',\n",
    "    'エ-e',\n",
    "    'ヨ-yo',\n",
    "    'ラ-ra',\n",
    "    'リ-ri',\n",
    "    'ル-ru',\n",
    "    'レ-re',\n",
    "    'ロ-ro',\n",
    "    'ワ-wa',\n",
    "    'ヰ-wi', # index 38, (Exception it was wi)\n",
    "    'ウ-u',\n",
    "    'ヱ-we', # index 40, (Exception it was we)\n",
    "    'ヲ-wo',\n",
    "    'ン-n',\n",
    "    'ア-a',\n",
    "    'イ-i',\n",
    "    'ウ-u',\n",
    "    'エ-e',\n",
    "    'オ-o',\n",
    "    'カ-ka',\n",
    "    'キ-ki',\n",
    "    'ク-ku'\n",
    "]\n",
    "\n",
    "len(mapping_label)"
   ]
  },
  {
   "cell_type": "code",
   "execution_count": 11,
   "id": "19acae25",
   "metadata": {},
   "outputs": [],
   "source": [
    "def preprocess(img, threshold):\n",
    "    for idx1, first in enumerate(img):\n",
    "        for idx2, second in enumerate(first):\n",
    "            if second < 5:\n",
    "                img[idx1][idx2] = 255\n",
    "            else:\n",
    "                img[idx1][idx2] = (img[idx1][idx2] - 255) * -1\n",
    "\n",
    "    img = cv2.cvtColor(img, cv2.COLOR_GRAY2BGR)\n",
    "    \n",
    "    return img\n",
    "\n",
    "def preprocess_white(img):\n",
    "    img = cv2.cvtColor(img, cv2.COLOR_BGR2RGB)\n",
    "\n",
    "    # Black to white based on average color\n",
    "    avg_color_per_row = np.average(img, axis=0)\n",
    "    avg_color = np.average(avg_color_per_row, axis=0)\n",
    "\n",
    "    for idx1, first_iter in enumerate(img):\n",
    "        for idx2, second_iter in enumerate(first_iter):\n",
    "            for idx3, third_iter in enumerate(second_iter):\n",
    "                if third_iter <= np.round(avg_color[idx3]):\n",
    "                    img[idx1][idx2][idx3] = 255\n",
    "                elif third_iter <= np.round(avg_color[idx3]) + 1:\n",
    "                    img[idx1][idx2][idx3] = 255\n",
    "                else:\n",
    "                    img[idx1][idx2][idx3] = 0\n",
    "                    \n",
    "    return img"
   ]
  },
  {
   "cell_type": "code",
   "execution_count": 12,
   "id": "29ef9574",
   "metadata": {},
   "outputs": [],
   "source": [
    "# Save the Image\n",
    "num_id = 0\n",
    "save_dir = 'ETL1C\\\\IMG'\n",
    "\n",
    "for idx1, kana in enumerate(katakana):\n",
    "    if idx1 == 38 or idx1 == 40: continue\n",
    "    else:\n",
    "        for idx2, writer_img in enumerate(kana):\n",
    "            filename = str(num_id) + \"_\" + mapping_label[idx1] + \"_kana\" + \".png\"\n",
    "            filename = os.path.join(save_dir, filename)\n",
    "            cv2.imwrite(filename, preprocess_white(writer_img))\n",
    "            num_id = num_id + 1"
   ]
  },
  {
   "cell_type": "code",
   "execution_count": null,
   "id": "d797de7b",
   "metadata": {},
   "outputs": [],
   "source": []
  },
  {
   "cell_type": "code",
   "execution_count": null,
   "id": "a898e58f",
   "metadata": {},
   "outputs": [],
   "source": []
  }
 ],
 "metadata": {
  "kernelspec": {
   "display_name": "Python 3.8.12 ('sekigahara')",
   "language": "python",
   "name": "python3"
  },
  "language_info": {
   "codemirror_mode": {
    "name": "ipython",
    "version": 3
   },
   "file_extension": ".py",
   "mimetype": "text/x-python",
   "name": "python",
   "nbconvert_exporter": "python",
   "pygments_lexer": "ipython3",
   "version": "3.8.12"
  },
  "vscode": {
   "interpreter": {
    "hash": "85b3e9a93fd6d54902d8504db28d32c7c77deb13c32a16ffc61523ea758b36c8"
   }
  }
 },
 "nbformat": 4,
 "nbformat_minor": 5
}
